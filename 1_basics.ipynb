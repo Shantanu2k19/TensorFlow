{
 "cells": [
  {
   "cell_type": "code",
   "execution_count": 2,
   "id": "0d5ff811",
   "metadata": {},
   "outputs": [
    {
     "name": "stdout",
     "output_type": "stream",
     "text": [
      "<module 'tensorflow._api.v2.version' from '/home/zodiac/miniconda3/lib/python3.8/site-packages/tensorflow/_api/v2/version/__init__.py'>\n"
     ]
    }
   ],
   "source": [
    "import tensorflow as tf\n",
    "print(tf.version)"
   ]
  },
  {
   "cell_type": "code",
   "execution_count": 4,
   "id": "291f3a30",
   "metadata": {},
   "outputs": [],
   "source": [
    "a = tf.constant([2], name = 'constant_a')\n",
    "b = tf.constant([3], name = 'constant_b')"
   ]
  },
  {
   "cell_type": "code",
   "execution_count": 5,
   "id": "779574b6",
   "metadata": {},
   "outputs": [
    {
     "name": "stdout",
     "output_type": "stream",
     "text": [
      "2\n"
     ]
    }
   ],
   "source": [
    "tf.print(a.numpy()[0])"
   ]
  },
  {
   "cell_type": "code",
   "execution_count": 7,
   "id": "337c3bd7",
   "metadata": {},
   "outputs": [],
   "source": [
    "@tf.function\n",
    "def add(a,b):\n",
    "    c = tf.add(a, b)\n",
    "    #c = a + b is also a way to define the sum of the terms\n",
    "    print(c)\n",
    "    return c"
   ]
  },
  {
   "cell_type": "code",
   "execution_count": 8,
   "id": "5fedaa82",
   "metadata": {},
   "outputs": [
    {
     "name": "stdout",
     "output_type": "stream",
     "text": [
      "Tensor(\"Add:0\", shape=(1,), dtype=int32)\n",
      "5\n"
     ]
    }
   ],
   "source": [
    "result = add(a,b)\n",
    "tf.print(result[0])"
   ]
  },
  {
   "cell_type": "code",
   "execution_count": 9,
   "id": "4cf4b676",
   "metadata": {},
   "outputs": [
    {
     "data": {
      "text/plain": [
       "<tf.Tensor: shape=(1,), dtype=int32, numpy=array([5], dtype=int32)>"
      ]
     },
     "execution_count": 9,
     "metadata": {},
     "output_type": "execute_result"
    }
   ],
   "source": [
    "result"
   ]
  },
  {
   "cell_type": "markdown",
   "id": "b57771d0",
   "metadata": {},
   "source": [
    "In TensorFlow all data is passed between operations in a computation graph, and these are passed in the form of Tensors, hence the name of TensorFlow."
   ]
  },
  {
   "cell_type": "code",
   "execution_count": 10,
   "id": "3fef6911",
   "metadata": {},
   "outputs": [
    {
     "name": "stdout",
     "output_type": "stream",
     "text": [
      "scalar : \n",
      " tf.Tensor(2, shape=(), dtype=int32) \n",
      "\n",
      "vector : \n",
      " tf.Tensor([5 6 2], shape=(3,), dtype=int32) \n",
      "\n",
      "matrix : \n",
      " tf.Tensor(\n",
      "[[1 2 3]\n",
      " [2 3 4]\n",
      " [4 5 6]], shape=(3, 3), dtype=int32) \n",
      "\n",
      "tensor : \n",
      " tf.Tensor(\n",
      "[[[1 2]\n",
      "  [2 3]\n",
      "  [3 4]]\n",
      "\n",
      " [[1 2]\n",
      "  [2 3]\n",
      "  [3 4]]\n",
      "\n",
      " [[1 2]\n",
      "  [2 3]\n",
      "  [3 4]]], shape=(3, 3, 2), dtype=int32) \n",
      "\n"
     ]
    }
   ],
   "source": [
    "scalar = tf.constant(2)\n",
    "vector = tf.constant([5,6,2])\n",
    "matrix = tf.constant([[1,2,3], [2,3,4], [4,5,6]])\n",
    "tensor = tf.constant([ [[1,2],[2,3],[3,4]], [[1,2],[2,3],[3,4]],[[1,2],[2,3],[3,4]] ])\n",
    "\n",
    "print(\"scalar : \\n %s \\n\"%scalar)\n",
    "print(\"vector : \\n %s \\n\"%vector)\n",
    "print(\"matrix : \\n %s \\n\"%matrix)\n",
    "print(\"tensor : \\n %s \\n\"%tensor)"
   ]
  },
  {
   "cell_type": "code",
   "execution_count": 11,
   "id": "674cdf86",
   "metadata": {},
   "outputs": [
    {
     "data": {
      "text/plain": [
       "TensorShape([3, 3])"
      ]
     },
     "execution_count": 11,
     "metadata": {},
     "output_type": "execute_result"
    }
   ],
   "source": [
    "matrix.shape"
   ]
  },
  {
   "cell_type": "code",
   "execution_count": null,
   "id": "a3369a2e",
   "metadata": {},
   "outputs": [],
   "source": []
  },
  {
   "cell_type": "code",
   "execution_count": 12,
   "id": "84438ac8",
   "metadata": {},
   "outputs": [
    {
     "name": "stdout",
     "output_type": "stream",
     "text": [
      "(3, 3)\n",
      "(3, 3)\n",
      "\n",
      " tf.Tensor(\n",
      "[[2 3 4]\n",
      " [3 4 5]\n",
      " [6 5 4]], shape=(3, 3), dtype=int32)\n"
     ]
    }
   ],
   "source": [
    "one = tf.constant([ [1,2,3], [1,2,3], [3,2,1]])\n",
    "print(one.shape)\n",
    "two = tf.constant([ [1,1,1], [2,2,2], [3,3,3]])\n",
    "print(two.shape)\n",
    "\n",
    "tf.function\n",
    "def add():\n",
    "    result = one+two\n",
    "    return result\n",
    "\n",
    "lol = add()\n",
    "print(\"\\n\",lol)"
   ]
  },
  {
   "cell_type": "code",
   "execution_count": null,
   "id": "c2604bbf",
   "metadata": {},
   "outputs": [],
   "source": []
  },
  {
   "cell_type": "code",
   "execution_count": 13,
   "id": "c2ce0170",
   "metadata": {},
   "outputs": [
    {
     "name": "stdout",
     "output_type": "stream",
     "text": [
      "tf.Tensor(\n",
      "[[ 6  6]\n",
      " [10 10]], shape=(2, 2), dtype=int32) \n",
      "\n",
      "\n",
      "tf.Tensor(\n",
      "[[2 4]\n",
      " [4 6]], shape=(2, 2), dtype=int32)\n"
     ]
    }
   ],
   "source": [
    "one = tf.constant([[1,2], [2,3]])\n",
    "two = tf.constant([[2,2], [2,2]])\n",
    "\n",
    "@tf.function\n",
    "def multiplyMat():\n",
    "    return tf.matmul(one, two)\n",
    "\n",
    "@tf.function\n",
    "def neww():\n",
    "    return one*two\n",
    "\n",
    "mul = multiplyMat()\n",
    "print(mul,'\\n\\n')\n",
    "\n",
    "\n",
    "mul = neww()\n",
    "print(mul)"
   ]
  },
  {
   "cell_type": "code",
   "execution_count": null,
   "id": "c0789668",
   "metadata": {},
   "outputs": [],
   "source": []
  },
  {
   "cell_type": "code",
   "execution_count": 14,
   "id": "0009a567",
   "metadata": {},
   "outputs": [
    {
     "name": "stdout",
     "output_type": "stream",
     "text": [
      "tf.Tensor(1, shape=(), dtype=int32)\n",
      "tf.Tensor(2, shape=(), dtype=int32)\n",
      "tf.Tensor(3, shape=(), dtype=int32)\n"
     ]
    }
   ],
   "source": [
    "v = tf.Variable(0)\n",
    "\n",
    "@tf.function\n",
    "def increment(v):\n",
    "    v=v+1\n",
    "    #v = tf.add(v,1)\n",
    "    return v\n",
    "\n",
    "for i in range(3):\n",
    "    v = increment(v)\n",
    "    print(v)"
   ]
  },
  {
   "cell_type": "markdown",
   "id": "179acd74",
   "metadata": {},
   "source": [
    "zx znz"
   ]
  },
  {
   "cell_type": "markdown",
   "id": "6c405177",
   "metadata": {},
   "source": [
    "shortcuts \n",
    "a,b - add cells\n",
    "d - delete cells\n",
    "m - markdown\n",
    "?? - documentation of function "
   ]
  },
  {
   "cell_type": "code",
   "execution_count": null,
   "id": "b549a630",
   "metadata": {},
   "outputs": [],
   "source": []
  }
 ],
 "metadata": {
  "kernelspec": {
   "display_name": "Python 3 (ipykernel)",
   "language": "python",
   "name": "python3"
  },
  "language_info": {
   "codemirror_mode": {
    "name": "ipython",
    "version": 3
   },
   "file_extension": ".py",
   "mimetype": "text/x-python",
   "name": "python",
   "nbconvert_exporter": "python",
   "pygments_lexer": "ipython3",
   "version": "3.8.13"
  }
 },
 "nbformat": 4,
 "nbformat_minor": 5
}
